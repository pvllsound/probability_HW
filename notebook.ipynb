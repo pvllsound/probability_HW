{
 "cells": [
  {
   "cell_type": "markdown",
   "metadata": {},
   "source": [
    "## Exercise 1 \n",
    "\n",
    "Two dices are thrown once and the total score is observed. Use a simulation to find the estimated probability that the total score is even or greater than 7.  A simulation is a repetition of the same experiment multiple times to observe its behavior:\n",
    "\n",
    "- Run the experiment 1000 times (roll 2 dice 1000 times, and sum the number of both dices).\n",
    "- Keep track of the number of times that the sum was either greater than 7 or an even number.\n",
    "- Divide the number from step 2 by the number of iterations (1000)."
   ]
  },
  {
   "cell_type": "code",
   "execution_count": 1,
   "metadata": {},
   "outputs": [],
   "source": [
    "import random"
   ]
  },
  {
   "cell_type": "code",
   "execution_count": 7,
   "metadata": {},
   "outputs": [
    {
     "name": "stdout",
     "output_type": "stream",
     "text": [
      "Scores equal or above 7: 579\n",
      "Probability: 0.559\n"
     ]
    }
   ],
   "source": [
    "# TODO\n",
    "\n",
    "def roll(total_throws):\n",
    "    count = 0\n",
    "\n",
    "    for i in range(total_throws):\n",
    "        die_1 = random.randint(1, 6)\n",
    "        die_2 = random.randint(1, 6)\n",
    "\n",
    "        score = die_1 + die_2\n",
    "\n",
    "        if score >= 7:\n",
    "            count += 1\n",
    "    return count\n",
    "\n",
    "total_throws = 1000\n",
    "count = roll(total_throws)\n",
    "probability = count / total_throws\n",
    "\n",
    "print(f\"Scores equal or above 7: {roll(total_throws)}\")\n",
    "print(F\"Probability: {probability}\")"
   ]
  },
  {
   "cell_type": "markdown",
   "metadata": {},
   "source": [
    "## Exercise 2\n",
    "\n",
    "A box contains 10 white balls, 20 red balls and 30 green balls. If we take 5 balls from the box with replacement (we take the ball, observe what color it is and put it back into the box). We want to know the probability of:\n",
    "\n",
    "1. Take 3 white and 2 red.\n",
    "2. All are the same color.\n",
    "\n",
    "Run the experiment 1000 times and calculate the above probabilities."
   ]
  },
  {
   "cell_type": "code",
   "execution_count": 9,
   "metadata": {},
   "outputs": [
    {
     "name": "stdout",
     "output_type": "stream",
     "text": [
      "Probability Scenario 1: 0.004\n",
      "Probability Scenario 2: 0.03\n"
     ]
    }
   ],
   "source": [
    "box = [color for color, count in [('white', 10), ('red', 20), ('green', 30)] for _ in range(count)]\n",
    "\n",
    "# Scenario 1: draw 3 white, 2 red\n",
    "# Scenario 2: same color\n",
    "\n",
    "def draw(attempts):\n",
    "    scenario_1_count = 0\n",
    "    scenario_2_count = 0\n",
    "\n",
    "    for _ in range(attempts):\n",
    "        drawn_balls = [random.choice(box) for _ in range(5)]\n",
    "        color_counts = {color: drawn_balls.count(color) for color in set(drawn_balls)}\n",
    "\n",
    "        if color_counts.get('white', 0) == 3 and color_counts.get('red', 0) == 2:\n",
    "            scenario_1_count += 1\n",
    "\n",
    "        if len(color_counts) == 1:\n",
    "            scenario_2_count += 1\n",
    "\n",
    "    probability_1 = scenario_1_count / attempts\n",
    "    probability_2 = scenario_2_count / attempts\n",
    "\n",
    "    return probability_1, probability_2\n",
    "\n",
    "attempts = 1000\n",
    "probability_1, probability_2 = draw(attempts)\n",
    "\n",
    "print(f\"Probability Scenario 1: {probability_1}\")\n",
    "print(f\"Probability Scenario 2: {probability_2}\")"
   ]
  }
 ],
 "metadata": {
  "kernelspec": {
   "display_name": ".venv",
   "language": "python",
   "name": "python3"
  },
  "language_info": {
   "codemirror_mode": {
    "name": "ipython",
    "version": 3
   },
   "file_extension": ".py",
   "mimetype": "text/x-python",
   "name": "python",
   "nbconvert_exporter": "python",
   "pygments_lexer": "ipython3",
   "version": "3.11.6"
  }
 },
 "nbformat": 4,
 "nbformat_minor": 2
}
